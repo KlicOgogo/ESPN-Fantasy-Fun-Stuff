{
 "cells": [
  {
   "cell_type": "code",
   "execution_count": 1,
   "metadata": {
    "scrolled": false
   },
   "outputs": [],
   "source": [
    "from src.categories import export_week_stats\n",
    "week = 11\n",
    "sport = 'basketball'\n",
    "sleep_timeout_in_seconds = 7\n",
    "leagues = [43767928]\n",
    "export_week_stats(leagues, True, sport, week, sleep_timeout_in_seconds)\n",
    "leagues = [134112]\n",
    "export_week_stats(leagues, True, sport, week, sleep_timeout_in_seconds)\n",
    "leagues = [174837, 142634, 199973, 282844, 99121987]\n",
    "export_week_stats(leagues, False, sport, week, sleep_timeout_in_seconds)"
   ]
  }
 ],
 "metadata": {
  "kernelspec": {
   "display_name": "Python 3",
   "language": "python",
   "name": "python3"
  },
  "language_info": {
   "codemirror_mode": {
    "name": "ipython",
    "version": 3
   },
   "file_extension": ".py",
   "mimetype": "text/x-python",
   "name": "python",
   "nbconvert_exporter": "python",
   "pygments_lexer": "ipython3",
   "version": "3.6.6"
  }
 },
 "nbformat": 4,
 "nbformat_minor": 2
}
