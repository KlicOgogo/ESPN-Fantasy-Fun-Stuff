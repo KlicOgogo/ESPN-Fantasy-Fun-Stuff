{
 "cells": [
  {
   "cell_type": "code",
   "execution_count": null,
   "metadata": {
    "scrolled": false
   },
   "outputs": [],
   "source": [
    "from src.points import display_week_stats\n",
    "leagues = [27465869]\n",
    "display_week_stats(leagues, sport='hockey', week=13, sleep_timeout=7)\n",
    "leagues = [8290, 31769, 33730, 52338, 57256, 73362809]\n",
    "display_week_stats(leagues, sport='hockey', week=13, sleep_timeout=7)"
   ]
  }
 ],
 "metadata": {
  "kernelspec": {
   "display_name": "Python 3",
   "language": "python",
   "name": "python3"
  },
  "language_info": {
   "codemirror_mode": {
    "name": "ipython",
    "version": 3
   },
   "file_extension": ".py",
   "mimetype": "text/x-python",
   "name": "python",
   "nbconvert_exporter": "python",
   "pygments_lexer": "ipython3",
   "version": "3.6.6"
  }
 },
 "nbformat": 4,
 "nbformat_minor": 2
}
